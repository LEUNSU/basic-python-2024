{
 "cells": [
  {
   "cell_type": "markdown",
   "metadata": {},
   "source": [
    "## 1번 문제 "
   ]
  },
  {
   "cell_type": "code",
   "execution_count": null,
   "metadata": {},
   "outputs": [],
   "source": [
    "# 1번 문제\n",
    "π = 3.141592\n",
    "r = int(input('반지름을 입력하세요 > '))\n",
    "\n",
    "print(f'원의 넓이는 {π * r * r}')"
   ]
  },
  {
   "cell_type": "markdown",
   "metadata": {},
   "source": [
    "## 2번 문제"
   ]
  },
  {
   "cell_type": "code",
   "execution_count": 42,
   "metadata": {},
   "outputs": [],
   "source": [
    "# 2번 문제\n",
    "solar_system = {'Mercury' : '수성', 'Venus' : '금성', 'Earth' : '지구', 'Mars' : '화성', 'Jupiter' : '목성', 'Saturn' : '토성', 'Uranus' : '천왕성', 'Neptune' : '해왕성'}\n",
    "\n",
    "name = input('이름을 입력하세요 > ')\n",
    "if name in solar_system:\n",
    "    print(solar_system[name])\n"
   ]
  },
  {
   "cell_type": "markdown",
   "metadata": {},
   "source": [
    "## 3번 문제"
   ]
  },
  {
   "cell_type": "code",
   "execution_count": null,
   "metadata": {},
   "outputs": [],
   "source": [
    "## 3번 문제\n",
    "s = input(\"문장을 입력하세요 > \").split()\n",
    "words = tuple(s)   \n",
    "print(f\"단어수 = {len(words)}\")\n",
    "\n",
    "...\n"
   ]
  },
  {
   "cell_type": "markdown",
   "metadata": {},
   "source": [
    "## 4번 문제"
   ]
  },
  {
   "cell_type": "code",
   "execution_count": null,
   "metadata": {},
   "outputs": [],
   "source": [
    "# 4번 문제\n",
    "def get_url(url):\n",
    "     url = {'google' : 'www.google.com'}\n",
    "\n",
    "..."
   ]
  },
  {
   "cell_type": "markdown",
   "metadata": {},
   "source": [
    "## 5번 문제"
   ]
  },
  {
   "cell_type": "code",
   "execution_count": null,
   "metadata": {},
   "outputs": [],
   "source": [
    "# 5번 문제\n",
    "x = int(input('정수 입력 > '))\n",
    "\n",
    "for y in range(1, 9+1):\n",
    "    print (f'{x} x {y} = {x * y:2d}', end = '  ' ) \n",
    "    print() "
   ]
  }
 ],
 "metadata": {
  "kernelspec": {
   "display_name": "Python 3",
   "language": "python",
   "name": "python3"
  },
  "language_info": {
   "codemirror_mode": {
    "name": "ipython",
    "version": 3
   },
   "file_extension": ".py",
   "mimetype": "text/x-python",
   "name": "python",
   "nbconvert_exporter": "python",
   "pygments_lexer": "ipython3",
   "version": "3.11.5"
  }
 },
 "nbformat": 4,
 "nbformat_minor": 2
}
